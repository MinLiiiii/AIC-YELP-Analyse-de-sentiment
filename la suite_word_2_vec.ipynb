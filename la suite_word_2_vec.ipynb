{
 "cells": [
  {
   "cell_type": "markdown",
   "metadata": {},
   "source": [
    "### Librairies"
   ]
  },
  {
   "cell_type": "code",
   "execution_count": 1,
   "metadata": {
    "scrolled": false
   },
   "outputs": [
    {
     "name": "stderr",
     "output_type": "stream",
     "text": [
      "/home/min/anaconda3/lib/python3.7/site-packages/ipykernel_launcher.py:2: DeprecationWarning: numpy.core.umath_tests is an internal NumPy module and should not be imported. It will be removed in a future NumPy release.\n",
      "  \n",
      "Using Theano backend.\n"
     ]
    }
   ],
   "source": [
    "from bs4 import BeautifulSoup\n",
    "from numpy.core.umath_tests import inner1d\n",
    "import re\n",
    "from sklearn.model_selection import train_test_split\n",
    "from sklearn.ensemble import RandomForestClassifier\n",
    "import pickle\n",
    "import pandas as pd\n",
    "import numpy as np\n",
    "import csv\n",
    "import tqdm\n",
    "from gensim.models import word2vec\n",
    "import logging\n",
    "import pickle\n",
    "import json\n",
    "%matplotlib inline\n",
    "import matplotlib.pyplot as plt\n",
    "import pandas as pd\n",
    "import nltk.data\n",
    "import pandas as pd\n",
    "import numpy as np\n",
    "import pickle\n",
    "import torch\n",
    "import torch.utils.data as Data\n",
    "import torch.optim as optim\n",
    "from torch.autograd import Variable\n",
    "from gensim.models import word2vec\n",
    "from keras.preprocessing import sequence\n",
    "import warnings\n",
    "import torch.nn as nn\n",
    "import torch.optim as optim\n",
    "import torch.nn.functional as F\n",
    "from sklearn.metrics import confusion_matrix\n",
    "import seaborn as sn\n",
    "import matplotlib.pyplot as plt\n",
    "warnings.filterwarnings(\"ignore\")"
   ]
  },
  {
   "cell_type": "markdown",
   "metadata": {},
   "source": [
    "## Pie chart\n",
    "Le diagramme pie chart est pour voir la distribution de chaque classe"
   ]
  },
  {
   "cell_type": "code",
   "execution_count": 2,
   "metadata": {},
   "outputs": [],
   "source": [
    "import pickle\n",
    "with open(\"../dataset_without_3.p\",\"rb\") as f : \n",
    "    data = pickle.load(f)\n",
    "data = data.sample(frac=1)"
   ]
  },
  {
   "cell_type": "code",
   "execution_count": 3,
   "metadata": {
    "scrolled": false
   },
   "outputs": [
    {
     "data": {
      "text/html": [
       "<div>\n",
       "<style scoped>\n",
       "    .dataframe tbody tr th:only-of-type {\n",
       "        vertical-align: middle;\n",
       "    }\n",
       "\n",
       "    .dataframe tbody tr th {\n",
       "        vertical-align: top;\n",
       "    }\n",
       "\n",
       "    .dataframe thead th {\n",
       "        text-align: right;\n",
       "    }\n",
       "</style>\n",
       "<table border=\"1\" class=\"dataframe\">\n",
       "  <thead>\n",
       "    <tr style=\"text-align: right;\">\n",
       "      <th></th>\n",
       "      <th>stars</th>\n",
       "      <th>text</th>\n",
       "    </tr>\n",
       "  </thead>\n",
       "  <tbody>\n",
       "    <tr>\n",
       "      <th>12409</th>\n",
       "      <td>5</td>\n",
       "      <td>Love this place. When you spend multiple hours...</td>\n",
       "    </tr>\n",
       "    <tr>\n",
       "      <th>4638</th>\n",
       "      <td>5</td>\n",
       "      <td>A taste for taste. A bless in a continent wher...</td>\n",
       "    </tr>\n",
       "    <tr>\n",
       "      <th>817249</th>\n",
       "      <td>1</td>\n",
       "      <td>Disappointed by the quality of the food !! \\r\\...</td>\n",
       "    </tr>\n",
       "    <tr>\n",
       "      <th>390564</th>\n",
       "      <td>4</td>\n",
       "      <td>Tasty, well presented food and attentive servi...</td>\n",
       "    </tr>\n",
       "    <tr>\n",
       "      <th>195186</th>\n",
       "      <td>5</td>\n",
       "      <td>Very helpful. I had my brake light broken when...</td>\n",
       "    </tr>\n",
       "  </tbody>\n",
       "</table>\n",
       "</div>"
      ],
      "text/plain": [
       "        stars                                               text\n",
       "12409       5  Love this place. When you spend multiple hours...\n",
       "4638        5  A taste for taste. A bless in a continent wher...\n",
       "817249      1  Disappointed by the quality of the food !! \\r\\...\n",
       "390564      4  Tasty, well presented food and attentive servi...\n",
       "195186      5  Very helpful. I had my brake light broken when..."
      ]
     },
     "execution_count": 3,
     "metadata": {},
     "output_type": "execute_result"
    }
   ],
   "source": [
    "data.head()"
   ]
  },
  {
   "cell_type": "code",
   "execution_count": 4,
   "metadata": {},
   "outputs": [
    {
     "name": "stdout",
     "output_type": "stream",
     "text": [
      "\n",
      "an exemple of review is:\n",
      "\n",
      "Went last week, and ordered a dozen variety. I didn't care for any of them, very dry, the frosting wasn't very good,even my 9 yr old daughter spit her cupcake out! \n",
      "\n",
      "(10000, 2)\n",
      "Index(['stars', 'text'], dtype='object')\n"
     ]
    }
   ],
   "source": [
    "print ('\\nan exemple of review is:\\n')\n",
    "print (data[\"text\"][1319], '\\n')\n",
    "print (data.shape)\n",
    "print (data.columns)"
   ]
  },
  {
   "cell_type": "code",
   "execution_count": 5,
   "metadata": {
    "scrolled": false
   },
   "outputs": [
    {
     "name": "stdout",
     "output_type": "stream",
     "text": [
      "5    2500\n",
      "4    2500\n",
      "2    2500\n",
      "1    2500\n",
      "Name: stars, dtype: int64\n"
     ]
    },
    {
     "data": {
      "text/plain": [
       "Text(0.5,1,'Distribution of the four classes')"
      ]
     },
     "execution_count": 5,
     "metadata": {},
     "output_type": "execute_result"
    },
    {
     "data": {
      "image/png": "[encoded data removed]",
      "text/plain": [
       "<Figure size 432x288 with 1 Axes>"
      ]
     },
     "metadata": {},
     "output_type": "display_data"
    }
   ],
   "source": [
    "counts = data['stars'].value_counts()\n",
    "print(counts)\n",
    "colors = ['turquoise', 'seagreen','red','blue','yellow']\n",
    "plt.pie(counts, labels=[5,4,2,1], colors=colors)\n",
    "plt.axis('equal')\n",
    "plt.title(\"Distribution of the four classes\")"
   ]
  },
  {
   "cell_type": "markdown",
   "metadata": {},
   "source": [
    "### Prétraitement des textes\n",
    "Enlèvement des reviews vides et caractères spéciaux"
   ]
  },
  {
   "cell_type": "code",
   "execution_count": 6,
   "metadata": {},
   "outputs": [
    {
     "name": "stdout",
     "output_type": "stream",
     "text": [
      "[nltk_data] Downloading package punkt to /home/min/nltk_data...\n",
      "[nltk_data]   Package punkt is already up-to-date!\n"
     ]
    },
    {
     "data": {
      "text/plain": [
       "True"
      ]
     },
     "execution_count": 6,
     "metadata": {},
     "output_type": "execute_result"
    }
   ],
   "source": [
    "import nltk\n",
    "nltk.download('punkt')"
   ]
  },
  {
   "cell_type": "code",
   "execution_count": 7,
   "metadata": {},
   "outputs": [],
   "source": [
    "tokenizer = nltk.data.load('tokenizers/punkt/english.pickle')\n",
    "def sentence_to_wordlist(review):\n",
    "        review_text = BeautifulSoup(review, \"html.parser\").get_text()\n",
    "        review_text = re.sub(\"[^a-zA-Z]\",\" \", review_text)\n",
    "        words = review_text.lower().split()\n",
    "        return(words)\n",
    "def review_to_sentences(review, tokenizer):\n",
    "    raw_sentences = tokenizer.tokenize(review.strip())\n",
    "    sentences = []\n",
    "    for raw_sentence in raw_sentences : \n",
    "        if len(raw_sentence) > 0:\n",
    "            sentences.append(sentence_to_wordlist(raw_sentence))\n",
    "    return sentences"
   ]
  },
  {
   "cell_type": "markdown",
   "metadata": {},
   "source": [
    "### Obtention du vocabulaire de ce corpus"
   ]
  },
  {
   "cell_type": "code",
   "execution_count": 8,
   "metadata": {
    "scrolled": false
   },
   "outputs": [
    {
     "name": "stderr",
     "output_type": "stream",
     "text": [
      "100%|██████████| 10000/10000 [00:00<00:00, 10523.97it/s]\n"
     ]
    }
   ],
   "source": [
    "reviews = data['text']\n",
    "stars = data['stars']\n",
    "voc = []\n",
    "for ele in tqdm.tqdm(reviews) : \n",
    "    voc.extend(sentence_to_wordlist(ele))\n",
    "voc = set(voc)\n",
    "with open('vocabulaire_all.pkl', 'wb') as f : \n",
    "    pickle.dump(voc,f)"
   ]
  },
  {
   "cell_type": "markdown",
   "metadata": {},
   "source": [
    "### Obtention des phrases de ce corpus"
   ]
  },
  {
   "cell_type": "code",
   "execution_count": 9,
   "metadata": {
    "scrolled": true
   },
   "outputs": [
    {
     "name": "stderr",
     "output_type": "stream",
     "text": [
      "100%|██████████| 10000/10000 [00:04<00:00, 2472.75it/s]\n"
     ]
    }
   ],
   "source": [
    "sents = []\n",
    "for ele in tqdm.tqdm(reviews) : \n",
    "    sents += review_to_sentences(ele,tokenizer)\n",
    "pickle.dump(sents,open(\"sentences.p\",\"wb\"))"
   ]
  },
  {
   "cell_type": "markdown",
   "metadata": {},
   "source": [
    "### Chargement d'un WordEmbedding "
   ]
  },
  {
   "cell_type": "code",
   "execution_count": 10,
   "metadata": {
    "scrolled": false
   },
   "outputs": [
    {
     "name": "stdout",
     "output_type": "stream",
     "text": [
      "True\n",
      "True\n",
      "True\n",
      "True\n",
      "True\n",
      "True\n",
      "True\n",
      "True\n",
      "True\n",
      "True\n"
     ]
    }
   ],
   "source": [
    "we = \"word2vec\"\n",
    "if (we == \"word2vec\") :\n",
    "    WordEm = word2vec.Word2Vec.load(\"300features_1minwords_10context\")\n",
    "    index2word_set = set(WordEm.wv.index2word)\n",
    "    words_set = set(WordEm.wv.index2word)\n",
    "    words = sentence_to_wordlist(reviews[1319])\n",
    "    for word in words[:10]:\n",
    "        print (word in index2word_set)\n",
    "elif (we == \"glove\") : \n",
    "    with open(\"glove.840B.300d.txt\", encoding='utf8') as f:\n",
    "        words = set()\n",
    "        WordEm = {}\n",
    "        for line in tqdm.tqdm(f):\n",
    "            values = line.split()\n",
    "            curr_word = ''.join(values[:-300])\n",
    "            words.add(curr_word)\n",
    "            result = np.asarray(values[-300:], dtype='float32')\n",
    "            WordEm[curr_word] = result\n",
    "        words_set = words"
   ]
  },
  {
   "cell_type": "code",
   "execution_count": 11,
   "metadata": {
    "scrolled": true
   },
   "outputs": [
    {
     "data": {
      "text/plain": [
       "14380"
      ]
     },
     "execution_count": 11,
     "metadata": {},
     "output_type": "execute_result"
    }
   ],
   "source": [
    "len(words_set)"
   ]
  },
  {
   "cell_type": "markdown",
   "metadata": {},
   "source": [
    "### Classification binaire\n",
    "les stars <=2 : négatif\n",
    "\n",
    "les stars >=4 : positif"
   ]
  },
  {
   "cell_type": "code",
   "execution_count": 12,
   "metadata": {
    "scrolled": true
   },
   "outputs": [
    {
     "name": "stdout",
     "output_type": "stream",
     "text": [
      "(10000,)\n",
      "num of positive reviews 5000\n",
      "num of negative reviews 5000\n"
     ]
    }
   ],
   "source": [
    "print (stars.shape)\n",
    "stars_binary = np.zeros(stars.shape)\n",
    "stars_binary[stars <= 2] = 0\n",
    "stars_binary[stars > 2] = 1\n",
    "print(\"num of positive reviews {}\" .format((stars_binary == 1).sum()))\n",
    "print(\"num of negative reviews {}\" .format((stars_binary == 0).sum()))"
   ]
  },
  {
   "cell_type": "markdown",
   "metadata": {},
   "source": [
    "### Représentation de chaque phrase sous la forme de wordembedding\n",
    "chaque review est réprésenté par un tableau de dimension 100*300 (100 mot et chaque mot est représenté par un wordembedding de 300 dimensions) "
   ]
  },
  {
   "cell_type": "code",
   "execution_count": 13,
   "metadata": {
    "scrolled": false
   },
   "outputs": [
    {
     "name": "stdout",
     "output_type": "stream",
     "text": [
      "(10000, 32)\n"
     ]
    }
   ],
   "source": [
    "max_length = 32  # chaque review contient 32 mots : si len(review)> 32 : trunc ; sinon : padding\n",
    "num_features = 300 #  dimension de wordembedding\n",
    "index_from = 3\n",
    "start = 1\n",
    "oov = 2\n",
    "word2index = { word : (i + index_from) for i,word in enumerate(words_set) }\n",
    "index2word = { i : word for word, i in word2index.items() }\n",
    "index2word[0] = '0'\n",
    "index2word[1] = '1'\n",
    "index2word[2] = '2'\n",
    "# Pour les mots qui n'ont pas de wordembedding\n",
    "padding_model = {}\n",
    "padding_model['0'] = np.random.standard_normal(num_features)\n",
    "padding_model['1'] = np.random.standard_normal(num_features)\n",
    "padding_model['2'] = np.random.standard_normal(num_features)\n",
    "reviews_words = []\n",
    "for review in reviews:\n",
    "    review_words = sentence_to_wordlist(review)\n",
    "    review_words = [start] + [word2index[w] if (w in words_set) else oov for w in review_words]\n",
    "    reviews_words.append(review_words)\n",
    "# padding\n",
    "reviews_words = sequence.pad_sequences(reviews_words, maxlen = max_length, padding='post', truncating='post')\n",
    "print (reviews_words.shape)"
   ]
  },
  {
   "cell_type": "markdown",
   "metadata": {},
   "source": [
    "### Séparation du corpus en deux parties \n",
    "    70% de l'ensemble d'entraînement, 10% de l'ensemble de validation et 20% de l'ensemble de test"
   ]
  },
  {
   "cell_type": "code",
   "execution_count": 14,
   "metadata": {},
   "outputs": [],
   "source": [
    "data_matrix = np.empty((reviews_words.shape[0], max_length, num_features))\n",
    "for i in range(reviews_words.shape[0]):\n",
    "    data_matrix[i,:,:] = np.array([WordEm[index2word[ix]] if (index2word[ix] in words_set) else padding_model[index2word[ix]] for ix in reviews_words[i]])\n",
    "labels = np.array(stars_binary)"
   ]
  },
  {
   "cell_type": "code",
   "execution_count": 15,
   "metadata": {},
   "outputs": [],
   "source": [
    "index_0 = np.argwhere(labels==0)\n",
    "index_1 = np.argwhere(labels==1)\n",
    "train_index_0, valid_index_0,test_index_0 = np.split(index_0, [int(.7*len(index_0)), int(.8*len(index_0))])\n",
    "train_index_1, valid_index_1,test_index_1 = np.split(index_1, [int(.7*len(index_1)), int(.8*len(index_1))])\n",
    "train_index = []\n",
    "train_index.extend(train_index_0)\n",
    "train_index.extend(train_index_1)\n",
    "valid_index = []\n",
    "valid_index.extend(valid_index_0)\n",
    "valid_index.extend(valid_index_1)\n",
    "test_index = []\n",
    "test_index.extend(test_index_0)\n",
    "test_index.extend(test_index_1)"
   ]
  },
  {
   "cell_type": "code",
   "execution_count": 16,
   "metadata": {},
   "outputs": [],
   "source": [
    "train_data = data_matrix[train_index]\n",
    "valid_data = data_matrix[valid_index]\n",
    "test_data = data_matrix[test_index]\n",
    "train_labels = labels[train_index]\n",
    "valid_labels = labels[valid_index]\n",
    "test_labels = labels[test_index]"
   ]
  },
  {
   "cell_type": "code",
   "execution_count": 48,
   "metadata": {
    "scrolled": true
   },
   "outputs": [
    {
     "name": "stdout",
     "output_type": "stream",
     "text": [
      "CNN(\n",
      "  (convs): ModuleList(\n",
      "    (0): Conv2d(1, 100, kernel_size=(3, 300), stride=(1, 1))\n",
      "    (1): Conv2d(1, 100, kernel_size=(4, 300), stride=(1, 1))\n",
      "    (2): Conv2d(1, 100, kernel_size=(5, 300), stride=(1, 1))\n",
      "  )\n",
      "  (fc): Linear(in_features=300, out_features=1, bias=True)\n",
      "  (dropout): Dropout(p=0.5)\n",
      ")\n"
     ]
    }
   ],
   "source": [
    "class CNN(nn.Module):\n",
    "    def __init__(self,embedding_dim, n_filters, filter_sizes, output_dim, dropout):\n",
    "        super().__init__()\n",
    "        self.convs = nn.ModuleList([nn.Conv2d(in_channels=1, out_channels=n_filters, kernel_size=(fs,embedding_dim)) \n",
    "                                    for fs in filter_sizes])\n",
    "        self.fc = nn.Linear(len(filter_sizes)*n_filters, output_dim)\n",
    "        self.dropout = nn.Dropout(dropout)\n",
    "        \n",
    "    def forward(self, x):\n",
    "        #embedded = x.unsqueeze(1)\n",
    "        embedded = x\n",
    "        #embedded = [batch size, 1, sent len, emb dim]\n",
    "        \n",
    "        conved = [F.relu(conv(embedded)).squeeze(3) for conv in self.convs]\n",
    "            \n",
    "        #conv_n = [batch size, n_filters, sent len - filter_sizes[n]]\n",
    "        \n",
    "        pooled = [F.max_pool1d(conv, conv.shape[2]).squeeze(2) for conv in conved]\n",
    "        \n",
    "        #pooled_n = [batch size, n_filters]\n",
    "        \n",
    "        cat = self.dropout(torch.cat(pooled, dim=1))\n",
    "\n",
    "        #cat = [batch size, n_filters * len(filter_sizes)]\n",
    "            \n",
    "        return self.fc(cat)\n",
    "EMBEDDING_DIM = 300\n",
    "N_FILTERS = 100\n",
    "FILTER_SIZES = [3,4,5]\n",
    "OUTPUT_DIM = 1\n",
    "DROPOUT = 0.5\n",
    "cnn = CNN(EMBEDDING_DIM, N_FILTERS, FILTER_SIZES, OUTPUT_DIM, DROPOUT)\n",
    "print(cnn)"
   ]
  },
  {
   "cell_type": "code",
   "execution_count": 94,
   "metadata": {},
   "outputs": [],
   "source": [
    "optimizer = optim.Adam(cnn.parameters())\n",
    "\n",
    "criterion = nn.BCEWithLogitsLoss()\n",
    "\n",
    "def binary_accuracy(preds, y):\n",
    "    rounded_preds = torch.round(torch.sigmoid(preds))\n",
    "    correct = (rounded_preds == y).float() #convert into float for division \n",
    "    acc = correct.sum()/len(correct)\n",
    "    \n",
    "    return acc,rounded_preds.detach().numpy(),y.detach().numpy()\n",
    "\n",
    "def train(model, iterator, optimizer, criterion):\n",
    "    epoch_loss = 0\n",
    "    epoch_acc = 0\n",
    "    predictionss = []\n",
    "    true_balises = []\n",
    "    model.train()\n",
    "    \n",
    "    for (x,y) in iterator:\n",
    "        x = x.float()\n",
    "        y = y.float()\n",
    "        optimizer.zero_grad()\n",
    "        predictions = model(x).squeeze(1)\n",
    "        y = y.view(50)\n",
    "        loss = criterion(predictions, y)\n",
    "        acc,tmp,labels_ = binary_accuracy(predictions,y)\n",
    "        loss.backward()\n",
    "        optimizer.step()\n",
    "        epoch_loss += loss.item()\n",
    "        epoch_acc += acc.item()\n",
    "        predictionss.extend(tmp)\n",
    "        true_balises.extend(labels_)\n",
    "    return epoch_loss / len(iterator), epoch_acc / len(iterator),predictionss,true_balises \n",
    "\n",
    "\n",
    "def evaluate(model, iterator, criterion):\n",
    "    epoch_loss = 0\n",
    "    epoch_acc = 0\n",
    "    model.eval()\n",
    "    predictionss =[]\n",
    "    true_balises = []\n",
    "    with torch.no_grad():\n",
    "        for (x,y) in iterator:\n",
    "            x = x.float()\n",
    "            y = y.float()\n",
    "            y = y.view(50)\n",
    "            predictions = model(x).squeeze(1)\n",
    "            loss = criterion(predictions,y)\n",
    "            acc,tmp,labels_ = binary_accuracy(predictions, y)\n",
    "            epoch_loss += loss.item()\n",
    "            epoch_acc += acc.item()\n",
    "            predictionss.extend(tmp)\n",
    "            true_balises.extend(labels_)\n",
    "    return epoch_loss / len(iterator), epoch_acc / len(iterator),predictionss,true_balises\n",
    "\n",
    "def plot_cm_matrix(solution,prediction,title) :\n",
    "    cm = confusion_matrix(solution, prediction)\n",
    "    df_cm = pd.DataFrame(cm, index = [i for i in \"01\"],columns = [i for i in \"01\"])\n",
    "    plt.figure(figsize = (5,3))\n",
    "    sn.heatmap(df_cm,annot=True,fmt=\"d\")\n",
    "    plt.title(title)\n"
   ]
  },
  {
   "cell_type": "code",
   "execution_count": 50,
   "metadata": {},
   "outputs": [],
   "source": [
    "torch.manual_seed(1)   \n",
    "BATCH_SIZE = 50      \n",
    "X_train= torch.from_numpy(train_data).double()\n",
    "Y_train = torch.from_numpy(train_labels).double()\n",
    "torch_dataset = Data.TensorDataset(X_train, Y_train)\n",
    "train_d = Data.DataLoader(\n",
    "    dataset=torch_dataset,      \n",
    "    batch_size=BATCH_SIZE,      \n",
    "    shuffle=True,             \n",
    "    num_workers=2,  \n",
    ")\n",
    "\n",
    "X_valid= torch.from_numpy(valid_data).double()\n",
    "Y_valid = torch.from_numpy(valid_labels).double()\n",
    "torch_dataset = Data.TensorDataset(X_valid, Y_valid)\n",
    "valid_d = Data.DataLoader(\n",
    "    dataset=torch_dataset,      \n",
    "    batch_size=BATCH_SIZE,      \n",
    "    shuffle=True,             \n",
    "    num_workers=2,             \n",
    ")\n",
    "\n",
    "X_test = torch.from_numpy(test_data).double()\n",
    "Y_test = torch.from_numpy(test_labels).double()\n",
    "torch_dataset = Data.TensorDataset(X_test,Y_test)\n",
    "test_d = Data.DataLoader(\n",
    "    dataset=torch_dataset,      \n",
    "    batch_size=BATCH_SIZE,      \n",
    "    shuffle=True,             \n",
    "    num_workers=2,             \n",
    ")"
   ]
  },
  {
   "cell_type": "code",
   "execution_count": 103,
   "metadata": {
    "scrolled": false
   },
   "outputs": [
    {
     "name": "stdout",
     "output_type": "stream",
     "text": [
      "| Epoch: 01 | Train Loss: 0.275 | Train Acc: 88.49%| Val. Loss: 0.328 | Val. Acc: 87.10% |\n",
      "| Epoch: 02 | Train Loss: 0.272 | Train Acc: 89.01%| Val. Loss: 0.332 | Val. Acc: 86.80% |\n",
      "| Epoch: 03 | Train Loss: 0.278 | Train Acc: 88.01%| Val. Loss: 0.328 | Val. Acc: 86.70% |\n",
      "| Epoch: 04 | Train Loss: 0.269 | Train Acc: 88.91%| Val. Loss: 0.319 | Val. Acc: 86.70% |\n",
      "| Epoch: 05 | Train Loss: 0.258 | Train Acc: 89.33%| Val. Loss: 0.322 | Val. Acc: 86.80% |\n",
      "| Epoch: 06 | Train Loss: 0.263 | Train Acc: 89.06%| Val. Loss: 0.331 | Val. Acc: 86.90% |\n",
      "| Epoch: 07 | Train Loss: 0.256 | Train Acc: 89.53%| Val. Loss: 0.315 | Val. Acc: 87.20% |\n",
      "| Epoch: 08 | Train Loss: 0.243 | Train Acc: 90.23%| Val. Loss: 0.313 | Val. Acc: 87.60% |\n",
      "| Epoch: 09 | Train Loss: 0.241 | Train Acc: 90.13%| Val. Loss: 0.327 | Val. Acc: 86.90% |\n",
      "| Epoch: 10 | Train Loss: 0.232 | Train Acc: 90.76%| Val. Loss: 0.316 | Val. Acc: 88.00% |\n",
      "| Epoch: 11 | Train Loss: 0.232 | Train Acc: 90.23%| Val. Loss: 0.319 | Val. Acc: 87.10% |\n",
      "| Epoch: 12 | Train Loss: 0.225 | Train Acc: 90.76%| Val. Loss: 0.331 | Val. Acc: 87.40% |\n",
      "| Epoch: 13 | Train Loss: 0.226 | Train Acc: 90.79%| Val. Loss: 0.329 | Val. Acc: 86.00% |\n",
      "| Epoch: 14 | Train Loss: 0.223 | Train Acc: 90.76%| Val. Loss: 0.353 | Val. Acc: 86.10% |\n",
      "| Epoch: 15 | Train Loss: 0.215 | Train Acc: 91.26%| Val. Loss: 0.316 | Val. Acc: 87.40% |\n",
      "| Epoch: 16 | Train Loss: 0.211 | Train Acc: 91.61%| Val. Loss: 0.308 | Val. Acc: 88.40% |\n",
      "| Epoch: 17 | Train Loss: 0.206 | Train Acc: 91.54%| Val. Loss: 0.322 | Val. Acc: 86.60% |\n",
      "| Epoch: 18 | Train Loss: 0.209 | Train Acc: 91.61%| Val. Loss: 0.328 | Val. Acc: 86.80% |\n",
      "| Epoch: 19 | Train Loss: 0.198 | Train Acc: 91.81%| Val. Loss: 0.315 | Val. Acc: 87.70% |\n",
      "| Epoch: 20 | Train Loss: 0.203 | Train Acc: 91.76%| Val. Loss: 0.323 | Val. Acc: 87.70% |\n"
     ]
    },
    {
     "data": {
      "image/png": "[encoded data removed]",
      "text/plain": [
       "<Figure size 360x216 with 2 Axes>"
      ]
     },
     "metadata": {
      "needs_background": "light"
     },
     "output_type": "display_data"
    },
    {
     "data": {
      "image/png": "[encoded data removed]",
      "text/plain": [
       "<Figure size 360x216 with 2 Axes>"
      ]
     },
     "metadata": {
      "needs_background": "light"
     },
     "output_type": "display_data"
    }
   ],
   "source": [
    "N_EPOCHS = 20\n",
    "for epoch in range(N_EPOCHS):\n",
    "    train_loss, train_acc,predictions_train,labels_train= train(cnn, train_d, optimizer, criterion)\n",
    "    valid_loss, valid_acc,predictions_valid,labels_valid = evaluate(cnn, valid_d, criterion)\n",
    "    if (epoch == N_EPOCHS-1) : \n",
    "        plot_cm_matrix(labels_train,predictions_train,\"confusion matrice_train epoch \"+str(epoch+1))\n",
    "        plot_cm_matrix(labels_valid,predictions_valid,\"confusion matrice_valid epoch \"+str(epoch+1))\n",
    "    print(f'| Epoch: {epoch+1:02} | Train Loss: {train_loss:.3f} | Train Acc: {train_acc*100:.2f}%| Val. Loss: {valid_loss:.3f} | Val. Acc: {valid_acc*100:.2f}% |')\n",
    "    "
   ]
  },
  {
   "cell_type": "code",
   "execution_count": 104,
   "metadata": {},
   "outputs": [
    {
     "name": "stdout",
     "output_type": "stream",
     "text": [
      "| Test Loss: 0.323 | Test Acc: 86.70% |\n"
     ]
    },
    {
     "data": {
      "image/png": "[encoded data removed]",
      "text/plain": [
       "<Figure size 360x216 with 2 Axes>"
      ]
     },
     "metadata": {
      "needs_background": "light"
     },
     "output_type": "display_data"
    }
   ],
   "source": [
    "test_loss, test_acc, predictions_test,labels_test = evaluate(cnn, test_d, criterion)\n",
    "print(f'| Test Loss: {test_loss:.3f} | Test Acc: {test_acc*100:.2f}% |')\n",
    "plot_cm_matrix(labels_test,predictions_test,\"confusion matrice_test\")"
   ]
  }
 ],
 "metadata": {
  "kernelspec": {
   "display_name": "Python 3",
   "language": "python",
   "name": "python3"
  },
  "language_info": {
   "codemirror_mode": {
    "name": "ipython",
    "version": 3
   },
   "file_extension": ".py",
   "mimetype": "text/x-python",
   "name": "python",
   "nbconvert_exporter": "python",
   "pygments_lexer": "ipython3",
   "version": "3.7.0"
  }
 },
 "nbformat": 4,
 "nbformat_minor": 2
}
